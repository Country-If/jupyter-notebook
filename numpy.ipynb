{
 "cells": [
  {
   "cell_type": "markdown",
   "metadata": {},
   "source": [
    "## numpy练习题"
   ]
  },
  {
   "cell_type": "markdown",
   "metadata": {},
   "source": [
    "**1. Create a null vector of size 10**"
   ]
  },
  {
   "cell_type": "code",
   "execution_count": 1,
   "metadata": {},
   "outputs": [
    {
     "data": {
      "text/plain": [
       "array([0., 0., 0., 0., 0., 0., 0., 0., 0., 0.])"
      ]
     },
     "execution_count": 1,
     "metadata": {},
     "output_type": "execute_result"
    }
   ],
   "source": [
    "import numpy as np\n",
    "a1 = np.zeros(10)\n",
    "a1"
   ]
  },
  {
   "cell_type": "markdown",
   "metadata": {},
   "source": [
    "**2. Create a null vector of size 10 but the fifth value which is 1**"
   ]
  },
  {
   "cell_type": "code",
   "execution_count": 2,
   "metadata": {},
   "outputs": [
    {
     "data": {
      "text/plain": [
       "array([0., 0., 0., 0., 1., 0., 0., 0., 0., 0.])"
      ]
     },
     "execution_count": 2,
     "metadata": {},
     "output_type": "execute_result"
    }
   ],
   "source": [
    "import numpy as np\n",
    "a2 = np.zeros(10)\n",
    "a2[4] = 1\n",
    "a2"
   ]
  },
  {
   "cell_type": "markdown",
   "metadata": {},
   "source": [
    "**3. Create a vector with values ranging from 10 to 49**"
   ]
  },
  {
   "cell_type": "code",
   "execution_count": 3,
   "metadata": {},
   "outputs": [
    {
     "data": {
      "text/plain": [
       "array([10, 11, 12, 13, 14, 15, 16, 17, 18, 19, 20, 21, 22, 23, 24, 25, 26,\n",
       "       27, 28, 29, 30, 31, 32, 33, 34, 35, 36, 37, 38, 39, 40, 41, 42, 43,\n",
       "       44, 45, 46, 47, 48, 49])"
      ]
     },
     "execution_count": 3,
     "metadata": {},
     "output_type": "execute_result"
    }
   ],
   "source": [
    "import numpy as np\n",
    "a3 = np.arange(10, 50)\n",
    "a3"
   ]
  },
  {
   "cell_type": "markdown",
   "metadata": {},
   "source": [
    "**4. Create a 3x3 matrix with values ranging from 0 to 8**"
   ]
  },
  {
   "cell_type": "code",
   "execution_count": 4,
   "metadata": {},
   "outputs": [
    {
     "data": {
      "text/plain": [
       "array([[0, 1, 2],\n",
       "       [3, 4, 5],\n",
       "       [6, 7, 8]])"
      ]
     },
     "execution_count": 4,
     "metadata": {},
     "output_type": "execute_result"
    }
   ],
   "source": [
    "import numpy as np\n",
    "a4 = np.arange(9).reshape(3, 3)\n",
    "a4"
   ]
  },
  {
   "cell_type": "markdown",
   "metadata": {},
   "source": [
    "**5. Create a 10x10 array with random values and find the minimum and maximum values**"
   ]
  },
  {
   "cell_type": "code",
   "execution_count": 6,
   "metadata": {},
   "outputs": [
    {
     "name": "stdout",
     "output_type": "stream",
     "text": [
      "[[0.28790329 0.79580433 0.25790196 0.27760941 0.44426813 0.89565727\n",
      "  0.21634186 0.43257563 0.53755586 0.88293501]\n",
      " [0.64931138 0.39344683 0.7242187  0.46811889 0.31284247 0.01379243\n",
      "  0.36226762 0.73388815 0.8293762  0.4090162 ]\n",
      " [0.47888994 0.07360742 0.87667349 0.10032413 0.72576904 0.54270286\n",
      "  0.05003654 0.37393633 0.04822937 0.44161183]\n",
      " [0.91445165 0.63354136 0.05068053 0.21062187 0.59009316 0.05267523\n",
      "  0.41146322 0.78486682 0.87716146 0.76146257]\n",
      " [0.49354177 0.95775875 0.03039422 0.54731146 0.29571837 0.15903826\n",
      "  0.93139071 0.67694033 0.25426973 0.60334114]\n",
      " [0.84231818 0.09797382 0.79384666 0.32039696 0.55551834 0.30353322\n",
      "  0.16936705 0.91965657 0.56195197 0.24036754]\n",
      " [0.30298718 0.96844071 0.17938258 0.3400997  0.65381871 0.48398036\n",
      "  0.59422355 0.27116645 0.15745225 0.72433024]\n",
      " [0.9855447  0.31224796 0.58588737 0.5336093  0.32373209 0.95075695\n",
      "  0.23485521 0.04729497 0.34341705 0.03099825]\n",
      " [0.84435164 0.39387855 0.69342038 0.77700778 0.22530733 0.20155875\n",
      "  0.48467907 0.55141567 0.9933948  0.46789531]\n",
      " [0.97488537 0.26495448 0.0017658  0.94009256 0.04596577 0.04841706\n",
      "  0.76560243 0.04784922 0.69639146 0.24323949]]\n",
      "max =  0.9933948022651778\n",
      "min =  0.0017657958276929842\n"
     ]
    }
   ],
   "source": [
    "import numpy as np\n",
    "a5 = np.random.random((10, 10))\n",
    "n1 = a5.max()\n",
    "n2 = a5.min()\n",
    "print(a5)\n",
    "print(\"max = \", n1)\n",
    "print(\"min = \", n2)"
   ]
  },
  {
   "cell_type": "markdown",
   "metadata": {},
   "source": [
    "**6. Create a 2d array with 1 on the border and 0 inside**"
   ]
  },
  {
   "cell_type": "code",
   "execution_count": 7,
   "metadata": {},
   "outputs": [
    {
     "name": "stdout",
     "output_type": "stream",
     "text": [
      "enter a number:5\n"
     ]
    },
    {
     "data": {
      "text/plain": [
       "array([[1., 1., 1., 1., 1.],\n",
       "       [1., 0., 0., 0., 1.],\n",
       "       [1., 0., 0., 0., 1.],\n",
       "       [1., 0., 0., 0., 1.],\n",
       "       [1., 1., 1., 1., 1.]])"
      ]
     },
     "execution_count": 7,
     "metadata": {},
     "output_type": "execute_result"
    }
   ],
   "source": [
    "import numpy as np\n",
    "def func(n):\n",
    "    arr = np.zeros([n] * 2)\n",
    "    arr[[0, -1], :] = 1\n",
    "    arr[:, [0, -1]] = 1\n",
    "    return arr\n",
    "num = int(input(\"enter a number:\"))\n",
    "a6 = func(num)\n",
    "a6"
   ]
  },
  {
   "cell_type": "markdown",
   "metadata": {},
   "source": [
    "**7. Multiply a 5x3 matrix by a 3x2 matrix (real matrix product)**"
   ]
  },
  {
   "cell_type": "code",
   "execution_count": 9,
   "metadata": {},
   "outputs": [
    {
     "name": "stdout",
     "output_type": "stream",
     "text": [
      "[[ 0  1  2]\n",
      " [ 3  4  5]\n",
      " [ 6  7  8]\n",
      " [ 9 10 11]\n",
      " [12 13 14]]\n",
      "[[0 1]\n",
      " [2 3]\n",
      " [4 5]]\n",
      "[[ 10  13]\n",
      " [ 28  40]\n",
      " [ 46  67]\n",
      " [ 64  94]\n",
      " [ 82 121]]\n"
     ]
    }
   ],
   "source": [
    "import numpy as np\n",
    "a7 = np.arange(15).reshape(5, 3)\n",
    "a8 = np.arange(6).reshape(3, 2)\n",
    "a9 = np.dot(a7, a8)\n",
    "print(a7)\n",
    "print(a8)\n",
    "print(a9)"
   ]
  }
 ],
 "metadata": {
  "kernelspec": {
   "display_name": "Python 3",
   "language": "python",
   "name": "python3"
  },
  "language_info": {
   "codemirror_mode": {
    "name": "ipython",
    "version": 3
   },
   "file_extension": ".py",
   "mimetype": "text/x-python",
   "name": "python",
   "nbconvert_exporter": "python",
   "pygments_lexer": "ipython3",
   "version": "3.7.6"
  }
 },
 "nbformat": 4,
 "nbformat_minor": 4
}
