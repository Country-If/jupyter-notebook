{
 "cells": [
  {
   "cell_type": "markdown",
   "metadata": {},
   "source": [
    "## Python与MySQL交互"
   ]
  },
  {
   "cell_type": "code",
   "execution_count": 2,
   "metadata": {},
   "outputs": [],
   "source": [
    "import pymysql"
   ]
  },
  {
   "cell_type": "code",
   "execution_count": 4,
   "metadata": {},
   "outputs": [],
   "source": [
    "#创建链接对象，连接本地数据库\n",
    "conn = pymysql.connect(\n",
    "    host=\"localhost\",\n",
    "    port=3306,\n",
    "    user=\"root\",\n",
    "    password=\"****\", #密码\n",
    "    database='test',\n",
    "    charset='utf8'\n",
    ")\n",
    "#得到一个可以执行SQL语句的光标对象\n",
    "cs = conn.cursor()"
   ]
  },
  {
   "cell_type": "code",
   "execution_count": 10,
   "metadata": {},
   "outputs": [],
   "source": [
    "#创建数据库表\n",
    "sql = \"\"\"create table my_books(\n",
    "        id int primary key not null auto_increment,\n",
    "        title varchar(30) not null,\n",
    "        publisher varchar(40) not null,\n",
    "        price decimal(5,2) not null,\n",
    "        is_delete bit default 0\n",
    ")\n",
    "\"\"\"\n",
    "try:\n",
    "    cs.execute(sql)\n",
    "except Exception as error:\n",
    "    print(error)\n",
    "    #发生错误则回滚\n",
    "    conn.rollback()"
   ]
  },
  {
   "cell_type": "markdown",
   "metadata": {},
   "source": [
    "#### 下面是增删改查等操作"
   ]
  },
  {
   "cell_type": "markdown",
   "metadata": {},
   "source": [
    "牵扯到数据库的变动的操作需要通过**链接对象**进行commit()"
   ]
  },
  {
   "cell_type": "code",
   "execution_count": 11,
   "metadata": {},
   "outputs": [],
   "source": [
    "#增：insert into\n",
    "#插入多个数据：executemany\n",
    "sql = \"\"\"insert into my_books (title, publisher, price) \n",
    "        values(%s, %s, %s)\n",
    "\"\"\"\n",
    "data = [\n",
    "    (\"线性代数\", \"高等教育出版社\", 22.20),\n",
    "    (\"C语言程序设计\", \"机械工业出版社\", 30.00),\n",
    "    (\"Python编程从入门到实践\", \"人民邮电出版社\", 89.00),\n",
    "    (\"算法导论\", \"机械工业出版社\", 128.00)\n",
    "]\n",
    "try:\n",
    "    #批量插入数据\n",
    "    cs.executemany(sql, data)\n",
    "    #提交执行\n",
    "    conn.commit()\n",
    "except Exception as error:\n",
    "    print(error)\n",
    "    #发生错误则回滚\n",
    "    conn.rollback()"
   ]
  },
  {
   "cell_type": "code",
   "execution_count": 12,
   "metadata": {},
   "outputs": [],
   "source": [
    "#插入单个数据：execute\n",
    "sql = \"\"\"insert into my_books (title, publisher, price) \n",
    "        values(\"高等数学同济七版下册\", \"高等教育出版社\", 31.20)\n",
    "\"\"\"\n",
    "try:\n",
    "    #批量插入数据\n",
    "    cs.execute(sql)\n",
    "    #提交执行\n",
    "    conn.commit()\n",
    "except Exception as error:\n",
    "    print(error)\n",
    "    #发生错误则回滚\n",
    "    conn.rollback()"
   ]
  },
  {
   "cell_type": "code",
   "execution_count": 15,
   "metadata": {},
   "outputs": [
    {
     "name": "stdout",
     "output_type": "stream",
     "text": [
      "((1, '线性代数', '高等教育出版社', Decimal('22.20'), b'\\x00'), (2, 'C语言程序设计', '机械工业出版社', Decimal('30.00'), b'\\x00'), (3, 'Python编程从入门到实践', '人民邮电出版社', Decimal('89.00'), b'\\x00'), (4, '算法导论', '机械工业出版社', Decimal('128.00'), b'\\x00'), (5, '高等数学同济七版下册', '高等教育出版社', Decimal('31.20'), b'\\x00'))\n",
      "id:1, title:线性代数, publisher:高等教育出版社, price:22.20\n",
      "id:2, title:C语言程序设计, publisher:机械工业出版社, price:30.00\n",
      "id:3, title:Python编程从入门到实践, publisher:人民邮电出版社, price:89.00\n",
      "id:4, title:算法导论, publisher:机械工业出版社, price:128.00\n",
      "id:5, title:高等数学同济七版下册, publisher:高等教育出版社, price:31.20\n"
     ]
    }
   ],
   "source": [
    "#查：select\n",
    "#查询所有数据\n",
    "sql = \"select * from my_books\"\n",
    "try:\n",
    "    #执行SQL语句\n",
    "    cs.execute(sql)\n",
    "    #获取所有记录列表\n",
    "    results = cs.fetchall()\n",
    "    print(results)\n",
    "    for row in results:\n",
    "        id = row[0]\n",
    "        title = row[1]\n",
    "        publisher = row[2]\n",
    "        price = row[3]\n",
    "        #打印结果\n",
    "        print(\"id:%s, title:%s, publisher:%s, price:%s\" % (id, title, publisher, price))\n",
    "except Exception as error:\n",
    "    print(error)\n",
    "    print (\"Error: unable to fetch data\")"
   ]
  },
  {
   "cell_type": "code",
   "execution_count": 16,
   "metadata": {},
   "outputs": [
    {
     "name": "stdout",
     "output_type": "stream",
     "text": [
      "((1, '线性代数', '高等教育出版社', Decimal('22.20'), b'\\x00'), (2, 'C语言程序设计', '机械工业出版社', Decimal('30.00'), b'\\x00'), (3, 'Python编程从入门到实践', '人民邮电出版社', Decimal('89.00'), b'\\x00'), (5, '高等数学同济七版下册', '高等教育出版社', Decimal('31.20'), b'\\x00'))\n",
      "id:1, title:线性代数, publisher:高等教育出版社, price:22.20\n",
      "id:2, title:C语言程序设计, publisher:机械工业出版社, price:30.00\n",
      "id:3, title:Python编程从入门到实践, publisher:人民邮电出版社, price:89.00\n",
      "id:5, title:高等数学同济七版下册, publisher:高等教育出版社, price:31.20\n"
     ]
    }
   ],
   "source": [
    "#指定条件查询：where\n",
    "sql = \"select * from my_books where price<100\"\n",
    "try:\n",
    "    #执行SQL语句\n",
    "    cs.execute(sql)\n",
    "    #获取所有记录列表\n",
    "    results = cs.fetchall()\n",
    "    #打印结果\n",
    "    print(results)\n",
    "    for row in results:\n",
    "        id = row[0]\n",
    "        title = row[1]\n",
    "        publisher = row[2]\n",
    "        price = row[3]\n",
    "        #打印指定内容\n",
    "        print(\"id:%s, title:%s, publisher:%s, price:%s\" % (id, title, publisher, price))\n",
    "except Exception as error:\n",
    "    print(error)\n",
    "    print (\"Error: unable to fetch data\")"
   ]
  },
  {
   "cell_type": "code",
   "execution_count": 17,
   "metadata": {},
   "outputs": [],
   "source": [
    "#改：update\n",
    "sql = \"update my_books set price=price*0.9 where price>100\"\n",
    "try:\n",
    "    #执行SQL语句\n",
    "    cs.execute(sql)\n",
    "    #提交到数据库执行\n",
    "    conn.commit()\n",
    "except Exception as error:\n",
    "    print(error)\n",
    "    #发生错误时回滚\n",
    "    conn.rollback()"
   ]
  },
  {
   "cell_type": "code",
   "execution_count": 19,
   "metadata": {},
   "outputs": [
    {
     "name": "stdout",
     "output_type": "stream",
     "text": [
      "((1, '线性代数', '高等教育出版社', Decimal('22.20'), b'\\x00'), (2, 'C语言程序设计', '机械工业出版社', Decimal('30.00'), b'\\x00'), (5, '高等数学同济七版下册', '高等教育出版社', Decimal('31.20'), b'\\x00'), (3, 'Python编程从入门到实践', '人民邮电出版社', Decimal('89.00'), b'\\x00'), (4, '算法导论', '机械工业出版社', Decimal('115.20'), b'\\x00'))\n",
      "id:1, title:线性代数, publisher:高等教育出版社, price:22.20\n",
      "id:2, title:C语言程序设计, publisher:机械工业出版社, price:30.00\n",
      "id:5, title:高等数学同济七版下册, publisher:高等教育出版社, price:31.20\n",
      "id:3, title:Python编程从入门到实践, publisher:人民邮电出版社, price:89.00\n",
      "id:4, title:算法导论, publisher:机械工业出版社, price:115.20\n"
     ]
    }
   ],
   "source": [
    "#order by (升序：asc，降序：desc)\n",
    "sql = \"select * from my_books order by price asc\"\n",
    "try:\n",
    "    #执行SQL语句\n",
    "    cs.execute(sql)\n",
    "    #获取所有记录列表\n",
    "    results = cs.fetchall()\n",
    "    #打印结果\n",
    "    print(results)\n",
    "    for row in results:\n",
    "        id = row[0]\n",
    "        title = row[1]\n",
    "        publisher = row[2]\n",
    "        price = row[3]\n",
    "        #打印指定内容\n",
    "        print(\"id:%s, title:%s, publisher:%s, price:%s\" % (id, title, publisher, price))\n",
    "except Exception as error:\n",
    "    #发生错误时回滚\n",
    "    print(error)"
   ]
  },
  {
   "cell_type": "code",
   "execution_count": 20,
   "metadata": {},
   "outputs": [
    {
     "name": "stdout",
     "output_type": "stream",
     "text": [
      "id:1, title:线性代数, publisher:高等教育出版社, price:22.20\n",
      "id:2, title:C语言程序设计, publisher:机械工业出版社, price:30.00\n",
      "id:3, title:Python编程从入门到实践, publisher:人民邮电出版社, price:89.00\n",
      "id:5, title:高等数学同济七版下册, publisher:高等教育出版社, price:31.20\n"
     ]
    }
   ],
   "source": [
    "#删\n",
    "#逻辑删除：将要删除的数据默认值改为1\n",
    "sql1 = \"update my_books set is_delete=1 where price>100\"\n",
    "sql2 = \"select * from my_books where is_delete=0\"\n",
    "try:\n",
    "    #执行SQL语句\n",
    "    cs.execute(sql1)\n",
    "    cs.execute(sql2)\n",
    "    #获取所有记录列表\n",
    "    results = cs.fetchall()\n",
    "    for row in results:\n",
    "        id = row[0]\n",
    "        title = row[1]\n",
    "        publisher = row[2]\n",
    "        price = row[3]\n",
    "        #打印指定内容\n",
    "        print(\"id:%s, title:%s, publisher:%s, price:%s\" % (id, title, publisher, price))\n",
    "except Exception as error:\n",
    "    #发生错误时回滚\n",
    "    print(error)"
   ]
  },
  {
   "cell_type": "code",
   "execution_count": 24,
   "metadata": {},
   "outputs": [
    {
     "name": "stdout",
     "output_type": "stream",
     "text": [
      "id:1, title:线性代数, publisher:高等教育出版社, price:22.20\n",
      "id:2, title:C语言程序设计, publisher:机械工业出版社, price:30.00\n",
      "id:3, title:Python编程从入门到实践, publisher:人民邮电出版社, price:89.00\n",
      "id:5, title:高等数学同济七版下册, publisher:高等教育出版社, price:31.20\n"
     ]
    }
   ],
   "source": [
    "#物理删除：delete (结果不可逆，慎用)\n",
    "sql1 = \"delete from my_books where price>100\"\n",
    "sql2 = \"select * from my_books\"\n",
    "try:\n",
    "    #执行SQL语句\n",
    "    cs.execute(sql)\n",
    "    #获取所有记录列表\n",
    "    results = cs.fetchall()\n",
    "    for row in results:\n",
    "        id = row[0]\n",
    "        title = row[1]\n",
    "        publisher = row[2]\n",
    "        price = row[3]\n",
    "        #打印指定内容\n",
    "        print(\"id:%s, title:%s, publisher:%s, price:%s\" % (id, title, publisher, price))\n",
    "except Exception as error:\n",
    "    #发生错误时回滚\n",
    "    print(error)"
   ]
  },
  {
   "cell_type": "code",
   "execution_count": 25,
   "metadata": {},
   "outputs": [],
   "source": [
    "#关闭cursor对象\n",
    "cs.close()\n",
    "conn.close()"
   ]
  }
 ],
 "metadata": {
  "kernelspec": {
   "display_name": "Python 3",
   "language": "python",
   "name": "python3"
  },
  "language_info": {
   "codemirror_mode": {
    "name": "ipython",
    "version": 3
   },
   "file_extension": ".py",
   "mimetype": "text/x-python",
   "name": "python",
   "nbconvert_exporter": "python",
   "pygments_lexer": "ipython3",
   "version": "3.7.6"
  }
 },
 "nbformat": 4,
 "nbformat_minor": 4
}
